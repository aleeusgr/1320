{
 "cells": [
  {
   "cell_type": "code",
   "execution_count": 1,
   "metadata": {},
   "outputs": [],
   "source": [
    "# script to interact with my audio archive\n",
    "# 1. Samples\n",
    "# 2. Music\n",
    "# 3. MIXXX library\n",
    "\n",
    "\n",
    "# idea: provide a randomly selected set of samples"
   ]
  },
  {
   "cell_type": "code",
   "execution_count": 12,
   "metadata": {},
   "outputs": [],
   "source": [
    "from pathlib import Path, PosixPath"
   ]
  },
  {
   "cell_type": "code",
   "execution_count": 18,
   "metadata": {},
   "outputs": [],
   "source": [
    "samples = PosixPath('~/HDD/alex/Sampl_p/')\n",
    "tracks1 = PosixPath('~/HDD/alex/Music/')\n",
    "tracks2 = PosixPath('~/HDD/alex/MusicDJ/')\n",
    "mixxxDB = PosixPath('~/.mixxx/analysis')"
   ]
  },
  {
   "cell_type": "code",
   "execution_count": 17,
   "metadata": {},
   "outputs": [
    {
     "data": {
      "text/plain": [
       "[PosixPath('/home/alex/HDD/alex/Music/Bobby McFerrin - 1990 - Medicine Music {EMI USA - CDP-7-92048-2} [CD FLAC]'),\n",
       " PosixPath('/home/alex/HDD/alex/Music/Bobby McFerrin - Mouth Music (2001, Sony)'),\n",
       " PosixPath('/home/alex/HDD/alex/Music/Bobby McFerrin - The Best of Bobby McFerrin'),\n",
       " PosixPath('/home/alex/HDD/alex/Music/BURIAL 2007 Untrue (2012 Japan, Beat Records \\u200e– BRC-322)'),\n",
       " PosixPath('/home/alex/HDD/alex/Music/Cream - Strange Brew'),\n",
       " PosixPath('/home/alex/HDD/alex/Music/Cymande - 1972 - Cymande_mp3'),\n",
       " PosixPath('/home/alex/HDD/alex/Music/Daft Punk'),\n",
       " PosixPath('/home/alex/HDD/alex/Music/Dead Can Dance The Serpents Egg'),\n",
       " PosixPath('/home/alex/HDD/alex/Music/Deadbolt'),\n",
       " PosixPath('/home/alex/HDD/alex/Music/Die Antwoord - Ten$Ion'),\n",
       " PosixPath('/home/alex/HDD/alex/Music/Dire Straits - Sultans Of Swing - The Very Best Of (1998) CD FLAC'),\n",
       " PosixPath('/home/alex/HDD/alex/Music/Dolphin - Лучшие Песни (2012)'),\n",
       " PosixPath('/home/alex/HDD/alex/Music/1978. Herbie Hancock - Directstep (2008) [24-96]'),\n",
       " PosixPath('/home/alex/HDD/alex/Music/1981. Miles Davis - We Want Miles {SICP 4019-20}'),\n",
       " PosixPath('/home/alex/HDD/alex/Music/1984 - Dead Can Dance - Dead Can Dance (4AD, CAD 404, UK, 24-96)'),\n",
       " PosixPath('/home/alex/HDD/alex/Music/1994 - Blues'),\n",
       " PosixPath(\"/home/alex/HDD/alex/Music/1994 - Les Noces - ('The Wedding') And Russian Village Wedding Songs\"),\n",
       " PosixPath('/home/alex/HDD/alex/Music/1995 - Adiemus - Songs Of Sanctuary (2017, Warner Classics, 0190296947124, DE, 24-96)'),\n",
       " PosixPath('/home/alex/HDD/alex/Music/2006.Miles Davis - Kind Of Blue'),\n",
       " PosixPath('/home/alex/HDD/alex/Music/Asynje - Genkaldt'),\n",
       " PosixPath('/home/alex/HDD/alex/Music/Bassnectar - Unlimited - 2016 (320 kbps)'),\n",
       " PosixPath('/home/alex/HDD/alex/Music/BCD 17229 - The Roots Of It All Acoustic Blues (2CD) @flac HB'),\n",
       " PosixPath('/home/alex/HDD/alex/Music/Bitty McLean & Sly & Robbie - 2018 - Love Restart (FLAC)'),\n",
       " PosixPath('/home/alex/HDD/alex/Music/Bob Dylan - Masterpieces'),\n",
       " PosixPath('/home/alex/HDD/alex/Music/Latina'),\n",
       " PosixPath('/home/alex/HDD/alex/Music/Limp Bizkit - Chocolate Starfish And The Hot Dog Flavored Water'),\n",
       " PosixPath('/home/alex/HDD/alex/Music/Marcus Miller-Best of Marcus Miller-1998_(Victor entertainment,Japan)'),\n",
       " PosixPath('/home/alex/HDD/alex/Music/Marina & the Diamonds - Electra Heart (Deluxe Edition) 2012 FLAC c00ltun3s'),\n",
       " PosixPath('/home/alex/HDD/alex/Music/Miles Davis - Doo-Bop'),\n",
       " PosixPath('/home/alex/HDD/alex/Music/Minoru Muraoka - Harlem Nocturne- Bamboo Flute Miracle Sounds (1967, 2012, Nippon Columbia)'),\n",
       " PosixPath('/home/alex/HDD/alex/Music/Nirvana - Best Of The Best [FLAC] (2002)'),\n",
       " PosixPath('/home/alex/HDD/alex/Music/Norah Jones - Come Away With Me'),\n",
       " PosixPath('/home/alex/HDD/alex/Music/NTM'),\n",
       " PosixPath('/home/alex/HDD/alex/Music/Nuru Kane - (2013) - Exile'),\n",
       " PosixPath('/home/alex/HDD/alex/Music/Petit Biscuit - Presence - 2017 (320 kbps)'),\n",
       " PosixPath('/home/alex/HDD/alex/Music/Prodigy, The - Music For The Jilted Generation'),\n",
       " PosixPath('/home/alex/HDD/alex/Music/Seba - Shades of Me & You (2017)'),\n",
       " PosixPath('/home/alex/HDD/alex/Music/Sly & Robbie - Dub Sessions 1978-1985'),\n",
       " PosixPath('/home/alex/HDD/alex/Music/Sly & Robbie with Howie B'),\n",
       " PosixPath('/home/alex/HDD/alex/Music/Fatboy Slim - Best Of The Bootlegs (2011, BRASSIC 073CD)'),\n",
       " PosixPath('/home/alex/HDD/alex/Music/Fatboy Slim - Electronic Collection - Best Trips ( Hit Collection 2000 )'),\n",
       " PosixPath('/home/alex/HDD/alex/Music/Fawda Trio feat. SwamiMillion - Road to Essaouira - 2016'),\n",
       " PosixPath('/home/alex/HDD/alex/Music/Fugees-Playlist_The_Very_Best_Of_Fugees-CD-FLAC-2012-FATHEAD'),\n",
       " PosixPath('/home/alex/HDD/alex/Music/George Clinton - 2000 - Greatest Hits'),\n",
       " PosixPath('/home/alex/HDD/alex/Music/Gorillaz - The Singles Collection 2001 - 2011 [2011]'),\n",
       " PosixPath('/home/alex/HDD/alex/Music/Hassan Hakmoun - (1995) The Fire Within Gnawa Music Of Morocco'),\n",
       " PosixPath('/home/alex/HDD/alex/Music/Headhunters - Platinum (2011)'),\n",
       " PosixPath('/home/alex/HDD/alex/Music/Bob Marley & The Wailers - Legend (30th Anniversary Deluxe Edition) 2014'),\n",
       " PosixPath('/home/alex/HDD/alex/Music/Eternal FLAC'),\n",
       " PosixPath('/home/alex/HDD/alex/Music/Lana Del Rey...Born To Die...deluxe(2012)[FLAC]'),\n",
       " PosixPath('/home/alex/HDD/alex/Music/Snarky'),\n",
       " PosixPath('/home/alex/HDD/alex/Music/VA - (2014) [FA 5467] Slavery in America - Redemption songs 1914-1972'),\n",
       " PosixPath('/home/alex/HDD/alex/Music/Stevie Wonder - Best Of [Lossless]'),\n",
       " PosixPath('/home/alex/HDD/alex/Music/Te Vaka'),\n",
       " PosixPath('/home/alex/HDD/alex/Music/TEPR - Technosensible - 2019 (320 kbps)'),\n",
       " PosixPath(\"/home/alex/HDD/alex/Music/The 'Rozhdestvo' Choir - Stupneva\"),\n",
       " PosixPath('/home/alex/HDD/alex/Music/The Best of Nancy Sinatra'),\n",
       " PosixPath('/home/alex/HDD/alex/Music/The Boat That Rocked OST'),\n",
       " PosixPath('/home/alex/HDD/alex/Music/The Bulgarian Voices Angelite With Huun-Huur-Tu & Moscow Art Trio -2010 - Legend (2CD)'),\n",
       " PosixPath('/home/alex/HDD/alex/Music/The Doors - Very Best Of 40th-FLAC-HiGH'),\n",
       " PosixPath('/home/alex/HDD/alex/Music/The Glitch Mob - Love Death Immortality (Remixes) - 2015 - FLAC'),\n",
       " PosixPath('/home/alex/HDD/alex/Music/The Glitch Mob Discography'),\n",
       " PosixPath('/home/alex/HDD/alex/Music/The Herbaliser - Herbal Tonic (Best Of) (2010)'),\n",
       " PosixPath('/home/alex/HDD/alex/Music/The Imagined Village - 2012 - Bending The Dark (ECC Records, ecc 006)'),\n",
       " PosixPath('/home/alex/HDD/alex/Music/The Prodigy - Their Law'),\n",
       " PosixPath('/home/alex/HDD/alex/Music/Tracy Chapman 2015 Greatest Hits [320]'),\n",
       " PosixPath('/home/alex/HDD/alex/Music/US3'),\n",
       " PosixPath('/home/alex/HDD/alex/Music/Us3 - Schizophonic (2006)'),\n",
       " PosixPath('/home/alex/HDD/alex/Music/VA - 100 лучших песен русского рока в XX веке (Наше Радио) [2000]'),\n",
       " PosixPath('/home/alex/HDD/alex/Music/VA - Digiseeds (2015)'),\n",
       " PosixPath('/home/alex/HDD/alex/Music/VA - Fine Nu Disco Soul Groove (2019)'),\n",
       " PosixPath('/home/alex/HDD/alex/Music/VA - Glittering Disco Around the World (2019)'),\n",
       " PosixPath('/home/alex/HDD/alex/Music/VA - Mystic Drums & Flute, Japan (World sounds)'),\n",
       " PosixPath('/home/alex/HDD/alex/Music/VA - Remembering The 90s Best Hits Remixed (2017)'),\n",
       " PosixPath('/home/alex/HDD/alex/Music/VA-Clubbers_Culture_Bigroom_Miami_Compilation_2018-(CCVA0460)-WEB-2018-iHR'),\n",
       " PosixPath('/home/alex/HDD/alex/Music/VA-Liquid_Drum_And_Bass_4_Autism_Presents_Redefining_The_Spectrum-(LDNB4A001)-WEB-2020'),\n",
       " PosixPath('/home/alex/HDD/alex/Music/Valravn'),\n",
       " PosixPath('/home/alex/HDD/alex/Music/Vanessa Mae - The Best lossless'),\n",
       " PosixPath('/home/alex/HDD/alex/Music/Var'),\n",
       " PosixPath('/home/alex/HDD/alex/Music/Various Artists - House Nation 1 (12 All Time Classic House Anthems) (1994) [FLAC]'),\n",
       " PosixPath('/home/alex/HDD/alex/Music/Various Artists - RocknRolla OST (2008) [FLAC]'),\n",
       " PosixPath('/home/alex/HDD/alex/Music/Various Artists - The Fatboy Slim Collection (2015) [FLAC]'),\n",
       " PosixPath('/home/alex/HDD/alex/Music/Линда – Линда (Студия Монолит) FLAC (2001)'),\n",
       " PosixPath('/home/alex/HDD/alex/Music/Пелагея (FLAC)'),\n",
       " PosixPath('/home/alex/HDD/alex/Music/Фолк-группа музея Кижи'),\n",
       " PosixPath('/home/alex/HDD/alex/Music/Herbie Hancock - Head Hunters (1973, 2016, Analogue)'),\n",
       " PosixPath('/home/alex/HDD/alex/Music/Hilltop Hoods [FLAC]'),\n",
       " PosixPath('/home/alex/HDD/alex/Music/Inkary - Music from the Andes vol.8'),\n",
       " PosixPath('/home/alex/HDD/alex/Music/Inst. Cat FM Present - Rihanna Collection Best (2008)'),\n",
       " PosixPath('/home/alex/HDD/alex/Music/James Brown - 1991 - 20 All Time Greatest Hits! [flac]'),\n",
       " PosixPath('/home/alex/HDD/alex/Music/Jazz'),\n",
       " PosixPath('/home/alex/HDD/alex/Music/Jimi Hendrix - The Best Of 2010 [FLAC] [h33t] - Kitlope'),\n",
       " PosixPath('/home/alex/HDD/alex/Music/Jimi Hendrix - The Cry of Love (1971) WEB FLAC'),\n",
       " PosixPath('/home/alex/HDD/alex/Music/King Tubby (1983-2000) [43316-2] Majestic Dub'),\n",
       " PosixPath('/home/alex/HDD/alex/Music/King Tubby - Dub Gone Crazy'),\n",
       " PosixPath('/home/alex/HDD/alex/Music/King Tubby - Meets Sly & Robbie')]"
      ]
     },
     "execution_count": 17,
     "metadata": {},
     "output_type": "execute_result"
    }
   ],
   "source": [
    "[x for x in tracks1.expanduser().iterdir() if x.is_dir()]"
   ]
  },
  {
   "cell_type": "code",
   "execution_count": null,
   "metadata": {},
   "outputs": [],
   "source": []
  }
 ],
 "metadata": {
  "kernelspec": {
   "display_name": "Python 3",
   "language": "python",
   "name": "python3"
  },
  "language_info": {
   "codemirror_mode": {
    "name": "ipython",
    "version": 3
   },
   "file_extension": ".py",
   "mimetype": "text/x-python",
   "name": "python",
   "nbconvert_exporter": "python",
   "pygments_lexer": "ipython3",
   "version": "3.7.6"
  }
 },
 "nbformat": 4,
 "nbformat_minor": 4
}
